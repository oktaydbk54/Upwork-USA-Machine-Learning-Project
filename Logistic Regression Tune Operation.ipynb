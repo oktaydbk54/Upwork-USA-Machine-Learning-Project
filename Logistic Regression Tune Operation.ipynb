{
 "cells": [
  {
   "cell_type": "code",
   "execution_count": 301,
   "id": "4473c094",
   "metadata": {},
   "outputs": [],
   "source": [
    "import warnings\n",
    "warnings.filterwarnings(\"ignore\")\n",
    "import pandas as pd\n",
    "import numpy as np\n",
    "import matplotlib.pyplot as plt\n",
    "import seaborn as sns\n",
    "from sklearn.preprocessing import LabelEncoder\n",
    "from sklearn.model_selection import train_test_split,GridSearchCV,cross_val_score\n",
    "from sklearn.linear_model import LogisticRegression\n",
    "from sklearn.metrics import accuracy_score,classification_report"
   ]
  },
  {
   "cell_type": "code",
   "execution_count": 302,
   "id": "31a31657",
   "metadata": {},
   "outputs": [
    {
     "data": {
      "text/html": [
       "<div>\n",
       "<style scoped>\n",
       "    .dataframe tbody tr th:only-of-type {\n",
       "        vertical-align: middle;\n",
       "    }\n",
       "\n",
       "    .dataframe tbody tr th {\n",
       "        vertical-align: top;\n",
       "    }\n",
       "\n",
       "    .dataframe thead th {\n",
       "        text-align: right;\n",
       "    }\n",
       "</style>\n",
       "<table border=\"1\" class=\"dataframe\">\n",
       "  <thead>\n",
       "    <tr style=\"text-align: right;\">\n",
       "      <th></th>\n",
       "      <th>Day</th>\n",
       "      <th>Type</th>\n",
       "      <th>Feature1</th>\n",
       "      <th>Feature2</th>\n",
       "      <th>Feature3</th>\n",
       "      <th>Outcome</th>\n",
       "    </tr>\n",
       "  </thead>\n",
       "  <tbody>\n",
       "    <tr>\n",
       "      <th>70</th>\n",
       "      <td>5</td>\n",
       "      <td>B</td>\n",
       "      <td>0.227860</td>\n",
       "      <td>0.275530</td>\n",
       "      <td>?</td>\n",
       "      <td>?</td>\n",
       "    </tr>\n",
       "    <tr>\n",
       "      <th>71</th>\n",
       "      <td>5</td>\n",
       "      <td>B</td>\n",
       "      <td>0.072226</td>\n",
       "      <td>0.740605</td>\n",
       "      <td>?</td>\n",
       "      <td>?</td>\n",
       "    </tr>\n",
       "    <tr>\n",
       "      <th>72</th>\n",
       "      <td>5</td>\n",
       "      <td>B</td>\n",
       "      <td>0.022544</td>\n",
       "      <td>0.750802</td>\n",
       "      <td>?</td>\n",
       "      <td>?</td>\n",
       "    </tr>\n",
       "    <tr>\n",
       "      <th>73</th>\n",
       "      <td>5</td>\n",
       "      <td>C</td>\n",
       "      <td>0.051146</td>\n",
       "      <td>0.040838</td>\n",
       "      <td>?</td>\n",
       "      <td>?</td>\n",
       "    </tr>\n",
       "    <tr>\n",
       "      <th>74</th>\n",
       "      <td>5</td>\n",
       "      <td>C</td>\n",
       "      <td>0.658285</td>\n",
       "      <td>0.465604</td>\n",
       "      <td>?</td>\n",
       "      <td>?</td>\n",
       "    </tr>\n",
       "  </tbody>\n",
       "</table>\n",
       "</div>"
      ],
      "text/plain": [
       "    Day Type  Feature1  Feature2 Feature3 Outcome\n",
       "70    5    B  0.227860  0.275530        ?       ?\n",
       "71    5    B  0.072226  0.740605        ?       ?\n",
       "72    5    B  0.022544  0.750802        ?       ?\n",
       "73    5    C  0.051146  0.040838        ?       ?\n",
       "74    5    C  0.658285  0.465604        ?       ?"
      ]
     },
     "execution_count": 302,
     "metadata": {},
     "output_type": "execute_result"
    }
   ],
   "source": [
    "df=pd.read_excel(\"Toy2.xlsx\")\n",
    "df.tail()"
   ]
  },
  {
   "cell_type": "code",
   "execution_count": 303,
   "id": "3c98fb4f",
   "metadata": {},
   "outputs": [
    {
     "name": "stdout",
     "output_type": "stream",
     "text": [
      "<class 'pandas.core.frame.DataFrame'>\n",
      "RangeIndex: 75 entries, 0 to 74\n",
      "Data columns (total 6 columns):\n",
      " #   Column    Non-Null Count  Dtype  \n",
      "---  ------    --------------  -----  \n",
      " 0   Day       75 non-null     int64  \n",
      " 1   Type      75 non-null     object \n",
      " 2   Feature1  75 non-null     float64\n",
      " 3   Feature2  75 non-null     float64\n",
      " 4   Feature3  75 non-null     object \n",
      " 5   Outcome   75 non-null     object \n",
      "dtypes: float64(2), int64(1), object(3)\n",
      "memory usage: 3.6+ KB\n"
     ]
    }
   ],
   "source": [
    "df.info()"
   ]
  },
  {
   "cell_type": "code",
   "execution_count": 304,
   "id": "90199b92",
   "metadata": {},
   "outputs": [
    {
     "data": {
      "text/html": [
       "<div>\n",
       "<style scoped>\n",
       "    .dataframe tbody tr th:only-of-type {\n",
       "        vertical-align: middle;\n",
       "    }\n",
       "\n",
       "    .dataframe tbody tr th {\n",
       "        vertical-align: top;\n",
       "    }\n",
       "\n",
       "    .dataframe thead th {\n",
       "        text-align: right;\n",
       "    }\n",
       "</style>\n",
       "<table border=\"1\" class=\"dataframe\">\n",
       "  <thead>\n",
       "    <tr style=\"text-align: right;\">\n",
       "      <th></th>\n",
       "      <th>count</th>\n",
       "      <th>mean</th>\n",
       "      <th>std</th>\n",
       "      <th>min</th>\n",
       "      <th>25%</th>\n",
       "      <th>50%</th>\n",
       "      <th>75%</th>\n",
       "      <th>max</th>\n",
       "    </tr>\n",
       "  </thead>\n",
       "  <tbody>\n",
       "    <tr>\n",
       "      <th>Day</th>\n",
       "      <td>75.0</td>\n",
       "      <td>2.866667</td>\n",
       "      <td>1.368895</td>\n",
       "      <td>1.000000</td>\n",
       "      <td>2.000000</td>\n",
       "      <td>3.000000</td>\n",
       "      <td>4.000000</td>\n",
       "      <td>5.000000</td>\n",
       "    </tr>\n",
       "    <tr>\n",
       "      <th>Feature1</th>\n",
       "      <td>75.0</td>\n",
       "      <td>0.333402</td>\n",
       "      <td>0.220441</td>\n",
       "      <td>-0.094686</td>\n",
       "      <td>0.153485</td>\n",
       "      <td>0.348296</td>\n",
       "      <td>0.462211</td>\n",
       "      <td>0.797487</td>\n",
       "    </tr>\n",
       "    <tr>\n",
       "      <th>Feature2</th>\n",
       "      <td>75.0</td>\n",
       "      <td>0.397321</td>\n",
       "      <td>0.232725</td>\n",
       "      <td>-0.097380</td>\n",
       "      <td>0.210675</td>\n",
       "      <td>0.404492</td>\n",
       "      <td>0.570477</td>\n",
       "      <td>0.801860</td>\n",
       "    </tr>\n",
       "  </tbody>\n",
       "</table>\n",
       "</div>"
      ],
      "text/plain": [
       "          count      mean       std       min       25%       50%       75%  \\\n",
       "Day        75.0  2.866667  1.368895  1.000000  2.000000  3.000000  4.000000   \n",
       "Feature1   75.0  0.333402  0.220441 -0.094686  0.153485  0.348296  0.462211   \n",
       "Feature2   75.0  0.397321  0.232725 -0.097380  0.210675  0.404492  0.570477   \n",
       "\n",
       "               max  \n",
       "Day       5.000000  \n",
       "Feature1  0.797487  \n",
       "Feature2  0.801860  "
      ]
     },
     "execution_count": 304,
     "metadata": {},
     "output_type": "execute_result"
    }
   ],
   "source": [
    "df.describe().T"
   ]
  },
  {
   "cell_type": "markdown",
   "id": "0360c13c",
   "metadata": {},
   "source": [
    "# PREPROCESSING"
   ]
  },
  {
   "cell_type": "code",
   "execution_count": 305,
   "id": "87698d69",
   "metadata": {},
   "outputs": [],
   "source": [
    "train_df=df.iloc[:64,:]\n",
    "test_df=df.iloc[64:,:]"
   ]
  },
  {
   "cell_type": "code",
   "execution_count": 306,
   "id": "2cebb24f",
   "metadata": {},
   "outputs": [
    {
     "data": {
      "image/png": "[encoded data removed]",
      "text/plain": [
       "<Figure size 540x540 with 12 Axes>"
      ]
     },
     "metadata": {
      "needs_background": "light"
     },
     "output_type": "display_data"
    }
   ],
   "source": [
    "sns.pairplot(df,diag_kind=\"kde\",markers=\"*\");"
   ]
  },
  {
   "cell_type": "code",
   "execution_count": 307,
   "id": "6311e09f",
   "metadata": {},
   "outputs": [
    {
     "data": {
      "image/png": "[encoded data removed]",
      "text/plain": [
       "<Figure size 720x720 with 20 Axes>"
      ]
     },
     "metadata": {
      "needs_background": "light"
     },
     "output_type": "display_data"
    }
   ],
   "source": [
    "sns.pairplot(train_df,diag_kind=\"kde\",markers=\"*\");"
   ]
  },
  {
   "cell_type": "code",
   "execution_count": 308,
   "id": "bbf08240",
   "metadata": {},
   "outputs": [],
   "source": [
    "data=train_df.copy()"
   ]
  },
  {
   "cell_type": "code",
   "execution_count": 309,
   "id": "919ceac3",
   "metadata": {},
   "outputs": [
    {
     "data": {
      "text/html": [
       "<div>\n",
       "<style scoped>\n",
       "    .dataframe tbody tr th:only-of-type {\n",
       "        vertical-align: middle;\n",
       "    }\n",
       "\n",
       "    .dataframe tbody tr th {\n",
       "        vertical-align: top;\n",
       "    }\n",
       "\n",
       "    .dataframe thead th {\n",
       "        text-align: right;\n",
       "    }\n",
       "</style>\n",
       "<table border=\"1\" class=\"dataframe\">\n",
       "  <thead>\n",
       "    <tr style=\"text-align: right;\">\n",
       "      <th></th>\n",
       "      <th>Day</th>\n",
       "      <th>Type</th>\n",
       "      <th>Feature1</th>\n",
       "      <th>Feature2</th>\n",
       "      <th>Feature3</th>\n",
       "      <th>Outcome</th>\n",
       "    </tr>\n",
       "  </thead>\n",
       "  <tbody>\n",
       "    <tr>\n",
       "      <th>0</th>\n",
       "      <td>1</td>\n",
       "      <td>C</td>\n",
       "      <td>0.403660</td>\n",
       "      <td>0.278940</td>\n",
       "      <td>P</td>\n",
       "      <td>0</td>\n",
       "    </tr>\n",
       "    <tr>\n",
       "      <th>1</th>\n",
       "      <td>1</td>\n",
       "      <td>A</td>\n",
       "      <td>0.073550</td>\n",
       "      <td>0.510298</td>\n",
       "      <td>P</td>\n",
       "      <td>0</td>\n",
       "    </tr>\n",
       "    <tr>\n",
       "      <th>2</th>\n",
       "      <td>1</td>\n",
       "      <td>B</td>\n",
       "      <td>0.375664</td>\n",
       "      <td>0.299433</td>\n",
       "      <td>P</td>\n",
       "      <td>0</td>\n",
       "    </tr>\n",
       "    <tr>\n",
       "      <th>3</th>\n",
       "      <td>1</td>\n",
       "      <td>A</td>\n",
       "      <td>0.058319</td>\n",
       "      <td>0.612322</td>\n",
       "      <td>P</td>\n",
       "      <td>0</td>\n",
       "    </tr>\n",
       "    <tr>\n",
       "      <th>4</th>\n",
       "      <td>1</td>\n",
       "      <td>B</td>\n",
       "      <td>0.114592</td>\n",
       "      <td>0.336539</td>\n",
       "      <td>P</td>\n",
       "      <td>0</td>\n",
       "    </tr>\n",
       "  </tbody>\n",
       "</table>\n",
       "</div>"
      ],
      "text/plain": [
       "   Day Type  Feature1  Feature2 Feature3 Outcome\n",
       "0    1    C  0.403660  0.278940        P       0\n",
       "1    1    A  0.073550  0.510298        P       0\n",
       "2    1    B  0.375664  0.299433        P       0\n",
       "3    1    A  0.058319  0.612322        P       0\n",
       "4    1    B  0.114592  0.336539        P       0"
      ]
     },
     "execution_count": 309,
     "metadata": {},
     "output_type": "execute_result"
    }
   ],
   "source": [
    "data.head()"
   ]
  },
  {
   "cell_type": "code",
   "execution_count": 310,
   "id": "0d9195ba",
   "metadata": {},
   "outputs": [
    {
     "data": {
      "text/html": [
       "<div>\n",
       "<style scoped>\n",
       "    .dataframe tbody tr th:only-of-type {\n",
       "        vertical-align: middle;\n",
       "    }\n",
       "\n",
       "    .dataframe tbody tr th {\n",
       "        vertical-align: top;\n",
       "    }\n",
       "\n",
       "    .dataframe thead th {\n",
       "        text-align: right;\n",
       "    }\n",
       "</style>\n",
       "<table border=\"1\" class=\"dataframe\">\n",
       "  <thead>\n",
       "    <tr style=\"text-align: right;\">\n",
       "      <th></th>\n",
       "      <th>Day</th>\n",
       "      <th>Type</th>\n",
       "      <th>Feature1</th>\n",
       "      <th>Feature2</th>\n",
       "      <th>Feature3</th>\n",
       "      <th>Outcome</th>\n",
       "    </tr>\n",
       "  </thead>\n",
       "  <tbody>\n",
       "    <tr>\n",
       "      <th>0</th>\n",
       "      <td>1</td>\n",
       "      <td>2</td>\n",
       "      <td>0.403660</td>\n",
       "      <td>0.278940</td>\n",
       "      <td>0</td>\n",
       "      <td>0</td>\n",
       "    </tr>\n",
       "    <tr>\n",
       "      <th>1</th>\n",
       "      <td>1</td>\n",
       "      <td>0</td>\n",
       "      <td>0.073550</td>\n",
       "      <td>0.510298</td>\n",
       "      <td>0</td>\n",
       "      <td>0</td>\n",
       "    </tr>\n",
       "    <tr>\n",
       "      <th>2</th>\n",
       "      <td>1</td>\n",
       "      <td>1</td>\n",
       "      <td>0.375664</td>\n",
       "      <td>0.299433</td>\n",
       "      <td>0</td>\n",
       "      <td>0</td>\n",
       "    </tr>\n",
       "    <tr>\n",
       "      <th>3</th>\n",
       "      <td>1</td>\n",
       "      <td>0</td>\n",
       "      <td>0.058319</td>\n",
       "      <td>0.612322</td>\n",
       "      <td>0</td>\n",
       "      <td>0</td>\n",
       "    </tr>\n",
       "    <tr>\n",
       "      <th>4</th>\n",
       "      <td>1</td>\n",
       "      <td>1</td>\n",
       "      <td>0.114592</td>\n",
       "      <td>0.336539</td>\n",
       "      <td>0</td>\n",
       "      <td>0</td>\n",
       "    </tr>\n",
       "    <tr>\n",
       "      <th>...</th>\n",
       "      <td>...</td>\n",
       "      <td>...</td>\n",
       "      <td>...</td>\n",
       "      <td>...</td>\n",
       "      <td>...</td>\n",
       "      <td>...</td>\n",
       "    </tr>\n",
       "    <tr>\n",
       "      <th>59</th>\n",
       "      <td>4</td>\n",
       "      <td>0</td>\n",
       "      <td>0.604599</td>\n",
       "      <td>0.470533</td>\n",
       "      <td>2</td>\n",
       "      <td>1</td>\n",
       "    </tr>\n",
       "    <tr>\n",
       "      <th>60</th>\n",
       "      <td>4</td>\n",
       "      <td>0</td>\n",
       "      <td>0.409691</td>\n",
       "      <td>0.058819</td>\n",
       "      <td>0</td>\n",
       "      <td>1</td>\n",
       "    </tr>\n",
       "    <tr>\n",
       "      <th>61</th>\n",
       "      <td>4</td>\n",
       "      <td>2</td>\n",
       "      <td>0.134982</td>\n",
       "      <td>0.079770</td>\n",
       "      <td>1</td>\n",
       "      <td>1</td>\n",
       "    </tr>\n",
       "    <tr>\n",
       "      <th>62</th>\n",
       "      <td>4</td>\n",
       "      <td>2</td>\n",
       "      <td>0.639036</td>\n",
       "      <td>0.587389</td>\n",
       "      <td>0</td>\n",
       "      <td>1</td>\n",
       "    </tr>\n",
       "    <tr>\n",
       "      <th>63</th>\n",
       "      <td>4</td>\n",
       "      <td>0</td>\n",
       "      <td>0.204368</td>\n",
       "      <td>0.160738</td>\n",
       "      <td>2</td>\n",
       "      <td>1</td>\n",
       "    </tr>\n",
       "  </tbody>\n",
       "</table>\n",
       "<p>64 rows × 6 columns</p>\n",
       "</div>"
      ],
      "text/plain": [
       "    Day  Type  Feature1  Feature2  Feature3  Outcome\n",
       "0     1     2  0.403660  0.278940         0        0\n",
       "1     1     0  0.073550  0.510298         0        0\n",
       "2     1     1  0.375664  0.299433         0        0\n",
       "3     1     0  0.058319  0.612322         0        0\n",
       "4     1     1  0.114592  0.336539         0        0\n",
       "..  ...   ...       ...       ...       ...      ...\n",
       "59    4     0  0.604599  0.470533         2        1\n",
       "60    4     0  0.409691  0.058819         0        1\n",
       "61    4     2  0.134982  0.079770         1        1\n",
       "62    4     2  0.639036  0.587389         0        1\n",
       "63    4     0  0.204368  0.160738         2        1\n",
       "\n",
       "[64 rows x 6 columns]"
      ]
     },
     "execution_count": 310,
     "metadata": {},
     "output_type": "execute_result"
    }
   ],
   "source": [
    "label_encoder=LabelEncoder()\n",
    "data[\"Type\"]=label_encoder.fit_transform(data[\"Type\"])\n",
    "data[\"Feature3\"]=label_encoder.fit_transform(data[\"Feature3\"])\n",
    "data[\"Outcome\"]=label_encoder.fit_transform(data[\"Outcome\"])\n",
    "data"
   ]
  },
  {
   "cell_type": "code",
   "execution_count": 311,
   "id": "6e5c83b1",
   "metadata": {},
   "outputs": [],
   "source": [
    "X=data[[\"Day\",\"Type\",\"Feature1\",\"Feature2\",\"Feature3\"]]\n",
    "y=data[[\"Outcome\"]]"
   ]
  },
  {
   "cell_type": "code",
   "execution_count": 312,
   "id": "d8f4bf11",
   "metadata": {},
   "outputs": [],
   "source": [
    "X_train,X_test,y_train,y_test=train_test_split(X,y,test_size=0.2,random_state=42)"
   ]
  },
  {
   "cell_type": "code",
   "execution_count": 313,
   "id": "00898400",
   "metadata": {},
   "outputs": [
    {
     "data": {
      "text/plain": [
       "LogisticRegression()"
      ]
     },
     "execution_count": 313,
     "metadata": {},
     "output_type": "execute_result"
    }
   ],
   "source": [
    "logistic_model=LogisticRegression()\n",
    "logistic_model.fit(X_train,y_train)\n",
    "logistic_model"
   ]
  },
  {
   "cell_type": "code",
   "execution_count": 314,
   "id": "df379c75",
   "metadata": {},
   "outputs": [
    {
     "data": {
      "text/plain": [
       "0.5384615384615384"
      ]
     },
     "execution_count": 314,
     "metadata": {},
     "output_type": "execute_result"
    }
   ],
   "source": [
    "y_pred=logistic_model.predict(X_test)\n",
    "accuracy_score(y_test,y_pred)"
   ]
  },
  {
   "cell_type": "code",
   "execution_count": 315,
   "id": "5eef09a6",
   "metadata": {},
   "outputs": [
    {
     "name": "stdout",
     "output_type": "stream",
     "text": [
      "              precision    recall  f1-score   support\n",
      "\n",
      "           0       0.40      0.40      0.40         5\n",
      "           1       0.62      0.62      0.62         8\n",
      "\n",
      "    accuracy                           0.54        13\n",
      "   macro avg       0.51      0.51      0.51        13\n",
      "weighted avg       0.54      0.54      0.54        13\n",
      "\n"
     ]
    }
   ],
   "source": [
    "print(classification_report(y_test,y_pred))"
   ]
  },
  {
   "cell_type": "markdown",
   "id": "2d15c5f1",
   "metadata": {},
   "source": [
    "# MODEL TUNING"
   ]
  },
  {
   "cell_type": "markdown",
   "id": "afef1cf6",
   "metadata": {},
   "source": [
    "# 1) Newton-cg L2"
   ]
  },
  {
   "cell_type": "code",
   "execution_count": 316,
   "id": "fc8bb3f0",
   "metadata": {},
   "outputs": [],
   "source": [
    "params1={\"C\":np.logspace(-3,3,7),\n",
    "       \"solver\":[\"newton-cg\",\"lbfgs\",\"sag\"],\n",
    "       \"penalty\":[\"l2\",\"None\"]}"
   ]
  },
  {
   "cell_type": "code",
   "execution_count": 317,
   "id": "bb6a1b37",
   "metadata": {},
   "outputs": [
    {
     "name": "stdout",
     "output_type": "stream",
     "text": [
      "Best Params for L2 and NONE:  {'C': 10.0, 'penalty': 'l2', 'solver': 'newton-cg'}\n",
      "Best Score: 0.7466666666666666\n"
     ]
    }
   ],
   "source": [
    "log_cv1=GridSearchCV(logistic_model,params1,cv=10)\n",
    "log_cv1.fit(X_train,y_train)\n",
    "print(\"Best Params for L2 and NONE: \",log_cv1.best_params_)\n",
    "print(\"Best Score:\",log_cv1.best_score_)"
   ]
  },
  {
   "cell_type": "code",
   "execution_count": 318,
   "id": "645db1f1",
   "metadata": {},
   "outputs": [
    {
     "data": {
      "text/plain": [
       "LogisticRegression(C=0.001, solver='newton-cg')"
      ]
     },
     "execution_count": 318,
     "metadata": {},
     "output_type": "execute_result"
    }
   ],
   "source": [
    "logistic_model1=LogisticRegression(C=0.001,penalty=\"l2\",solver=\"newton-cg\")\n",
    "logistic_model1.fit(X_train,y_train)\n",
    "logistic_model1"
   ]
  },
  {
   "cell_type": "code",
   "execution_count": 319,
   "id": "58e30700",
   "metadata": {},
   "outputs": [
    {
     "name": "stdout",
     "output_type": "stream",
     "text": [
      "Accuracy Score:  0.6153846153846154\n",
      "              precision    recall  f1-score   support\n",
      "\n",
      "           0       0.00      0.00      0.00         5\n",
      "           1       0.62      1.00      0.76         8\n",
      "\n",
      "    accuracy                           0.62        13\n",
      "   macro avg       0.31      0.50      0.38        13\n",
      "weighted avg       0.38      0.62      0.47        13\n",
      "\n"
     ]
    }
   ],
   "source": [
    "y_pred=logistic_model1.predict(X_test)\n",
    "print(\"Accuracy Score: \",accuracy_score(y_test,y_pred))\n",
    "print(classification_report(y_test,y_pred))"
   ]
  },
  {
   "cell_type": "markdown",
   "id": "8ea02edc",
   "metadata": {},
   "source": [
    "# 2) Liblinear L2"
   ]
  },
  {
   "cell_type": "code",
   "execution_count": 320,
   "id": "4036cff5",
   "metadata": {},
   "outputs": [],
   "source": [
    "params2={\"C\":np.logspace(-3,3,7),\n",
    "       \"solver\":[\"liblinear\"],\n",
    "       \"penalty\":[\"l2\",\"l1\"]}"
   ]
  },
  {
   "cell_type": "code",
   "execution_count": 321,
   "id": "4b1ed3df",
   "metadata": {},
   "outputs": [
    {
     "name": "stdout",
     "output_type": "stream",
     "text": [
      "Best Params for L2 and L1:  {'C': 10.0, 'penalty': 'l2', 'solver': 'liblinear'}\n",
      "Best Score: 0.7466666666666666\n"
     ]
    }
   ],
   "source": [
    "log_cv2=GridSearchCV(logistic_model,params2,cv=10)\n",
    "log_cv2.fit(X_train,y_train)\n",
    "print(\"Best Params for L2 and L1: \",log_cv2.best_params_)\n",
    "print(\"Best Score:\",log_cv2.best_score_)"
   ]
  },
  {
   "cell_type": "code",
   "execution_count": 322,
   "id": "f0f1c98e",
   "metadata": {},
   "outputs": [
    {
     "data": {
      "text/plain": [
       "LogisticRegression(C=0.001, solver='liblinear')"
      ]
     },
     "execution_count": 322,
     "metadata": {},
     "output_type": "execute_result"
    }
   ],
   "source": [
    "logistic_model2=LogisticRegression(C=0.001,penalty=\"l2\",solver=\"liblinear\")\n",
    "logistic_model2.fit(X_train,y_train)\n",
    "logistic_model2"
   ]
  },
  {
   "cell_type": "code",
   "execution_count": 323,
   "id": "a90d4c36",
   "metadata": {},
   "outputs": [
    {
     "name": "stdout",
     "output_type": "stream",
     "text": [
      "Accuracy Score:  0.6153846153846154\n",
      "              precision    recall  f1-score   support\n",
      "\n",
      "           0       0.00      0.00      0.00         5\n",
      "           1       0.62      1.00      0.76         8\n",
      "\n",
      "    accuracy                           0.62        13\n",
      "   macro avg       0.31      0.50      0.38        13\n",
      "weighted avg       0.38      0.62      0.47        13\n",
      "\n"
     ]
    }
   ],
   "source": [
    "y_pred=logistic_model2.predict(X_test)\n",
    "print(\"Accuracy Score: \",accuracy_score(y_test,y_pred))\n",
    "print(classification_report(y_test,y_pred))"
   ]
  },
  {
   "cell_type": "markdown",
   "id": "3d0ce516",
   "metadata": {},
   "source": [
    "# 3) Saga L2"
   ]
  },
  {
   "cell_type": "code",
   "execution_count": 324,
   "id": "065748fa",
   "metadata": {},
   "outputs": [],
   "source": [
    "params3={\"C\":np.logspace(-3,3,7),\n",
    "       \"solver\":[\"saga\"],\n",
    "       \"penalty\":[\"l2\",\"l1\",\"elasticnet\",\"None\"]}"
   ]
  },
  {
   "cell_type": "code",
   "execution_count": 325,
   "id": "0728032c",
   "metadata": {},
   "outputs": [
    {
     "name": "stdout",
     "output_type": "stream",
     "text": [
      "Best Params for L2 and L1:  {'C': 1.0, 'penalty': 'l1', 'solver': 'saga'}\n",
      "Best Score: 0.7466666666666666\n"
     ]
    }
   ],
   "source": [
    "log_cv3=GridSearchCV(logistic_model,params3,cv=10)\n",
    "log_cv3.fit(X_train,y_train)\n",
    "print(\"Best Params for L2 and L1: \",log_cv3.best_params_)\n",
    "print(\"Best Score:\",log_cv3.best_score_)"
   ]
  },
  {
   "cell_type": "code",
   "execution_count": 326,
   "id": "c1c2c598",
   "metadata": {},
   "outputs": [
    {
     "data": {
      "text/plain": [
       "LogisticRegression(C=0.001, solver='saga')"
      ]
     },
     "execution_count": 326,
     "metadata": {},
     "output_type": "execute_result"
    }
   ],
   "source": [
    "logistic_model3=LogisticRegression(C=0.001,penalty=\"l2\",solver=\"saga\")\n",
    "logistic_model3.fit(X_train,y_train)\n",
    "logistic_model3"
   ]
  },
  {
   "cell_type": "code",
   "execution_count": 327,
   "id": "161dbcb2",
   "metadata": {},
   "outputs": [
    {
     "name": "stdout",
     "output_type": "stream",
     "text": [
      "Accuracy Score:  0.6153846153846154\n",
      "              precision    recall  f1-score   support\n",
      "\n",
      "           0       0.00      0.00      0.00         5\n",
      "           1       0.62      1.00      0.76         8\n",
      "\n",
      "    accuracy                           0.62        13\n",
      "   macro avg       0.31      0.50      0.38        13\n",
      "weighted avg       0.38      0.62      0.47        13\n",
      "\n"
     ]
    }
   ],
   "source": [
    "y_pred=logistic_model3.predict(X_test)\n",
    "print(\"Accuracy Score: \",accuracy_score(y_test,y_pred))\n",
    "print(classification_report(y_test,y_pred))"
   ]
  },
  {
   "cell_type": "code",
   "execution_count": null,
   "id": "c792923c",
   "metadata": {},
   "outputs": [],
   "source": []
  },
  {
   "cell_type": "code",
   "execution_count": null,
   "id": "3c202d40",
   "metadata": {},
   "outputs": [],
   "source": []
  }
 ],
 "metadata": {
  "kernelspec": {
   "display_name": "Python 3 (ipykernel)",
   "language": "python",
   "name": "python3"
  },
  "language_info": {
   "codemirror_mode": {
    "name": "ipython",
    "version": 3
   },
   "file_extension": ".py",
   "mimetype": "text/x-python",
   "name": "python",
   "nbconvert_exporter": "python",
   "pygments_lexer": "ipython3",
   "version": "3.9.7"
  }
 },
 "nbformat": 4,
 "nbformat_minor": 5
}
